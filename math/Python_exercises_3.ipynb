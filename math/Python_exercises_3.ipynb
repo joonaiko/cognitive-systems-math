{
 "cells": [
  {
   "cell_type": "code",
   "execution_count": 137,
   "metadata": {},
   "outputs": [],
   "source": [
    "import numpy as np\n",
    "import numpy.linalg as la\n",
    "import matplotlib.pyplot as plt\n",
    "from numpy import exp,arange\n",
    "from pylab import meshgrid,cm,imshow,contour,clabel,colorbar,axis,title,show"
   ]
  },
  {
   "cell_type": "code",
   "execution_count": 138,
   "metadata": {},
   "outputs": [],
   "source": [
    "data = np.loadtxt('fish.txt', skiprows=37)\n",
    "x = data[:, 1:3]\n",
    "y = data[:, 3:]\n",
    "X = np.concatenate((np.ones((44,1)),x),axis=1)\n"
   ]
  },
  {
   "cell_type": "code",
   "execution_count": 139,
   "metadata": {},
   "outputs": [],
   "source": [
    "#print(X)\n",
    "#print(y)"
   ]
  },
  {
   "cell_type": "code",
   "execution_count": 145,
   "metadata": {},
   "outputs": [
    {
     "name": "stdout",
     "output_type": "stream",
     "text": [
      "[[3904.26601675]\n",
      " [  26.24068177]\n",
      " [-106.41363636]]\n"
     ]
    }
   ],
   "source": [
    "M = la.inv(X.T.dot(X)).dot(X.T).dot(y)\n",
    "print(M)\n"
   ]
  },
  {
   "cell_type": "code",
   "execution_count": 147,
   "metadata": {},
   "outputs": [
    {
     "name": "stdout",
     "output_type": "stream",
     "text": [
      "2474.3353320540277\n"
     ]
    }
   ],
   "source": [
    "def model(age,temp):\n",
    "    F = (M[0,0] + M[1,0]*age+ M[2,0]*temp)\n",
    "    return F\n",
    "\n",
    "print(model(55,27))"
   ]
  },
  {
   "cell_type": "code",
   "execution_count": 118,
   "metadata": {},
   "outputs": [
    {
     "name": "stdout",
     "output_type": "stream",
     "text": [
      "Mean average error is: 449.1646777735282\n"
     ]
    }
   ],
   "source": [
    "mae = 0\n",
    "for i in range(len(X)):\n",
    "    \n",
    "    mae = mae + (np.absolute( (M[0,0] + M[1,0]*X[i,1]+ M[2,0]*X[i,2]) - y[i,0]))\n",
    "print(\"Mean average error is:\",mae/(len(X)+1))"
   ]
  },
  {
   "cell_type": "code",
   "execution_count": null,
   "metadata": {},
   "outputs": [],
   "source": []
  }
 ],
 "metadata": {
  "kernelspec": {
   "display_name": "Python 3",
   "language": "python",
   "name": "python3"
  },
  "language_info": {
   "codemirror_mode": {
    "name": "ipython",
    "version": 3
   },
   "file_extension": ".py",
   "mimetype": "text/x-python",
   "name": "python",
   "nbconvert_exporter": "python",
   "pygments_lexer": "ipython3",
   "version": "3.6.7"
  }
 },
 "nbformat": 4,
 "nbformat_minor": 2
}
